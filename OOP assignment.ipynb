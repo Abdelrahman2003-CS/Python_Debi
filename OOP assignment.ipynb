{
 "cells": [
  {
   "cell_type": "markdown",
   "metadata": {
    "id": "ztOSGe78z4NV"
   },
   "source": [
    "# Managing a Simple Inventory System"
   ]
  },
  {
   "cell_type": "code",
   "execution_count": null,
   "metadata": {
    "id": "jmLTQpK7zvwO"
   },
   "outputs": [],
   "source": []
  },
  {
   "cell_type": "markdown",
   "metadata": {},
   "source": [
    "Exercise from OOP session "
   ]
  },
  {
   "cell_type": "code",
   "execution_count": null,
   "metadata": {},
   "outputs": [],
   "source": [
    "class person:\n",
    "    def __init__(self,name,age):\n",
    "        self.name=name\n",
    "        self.age=age\n",
    "    def study(self,time):\n",
    "        return f\"the time take to study: {time} hours\"\n",
    "    def displayinfo(self):\n",
    "        return f\"student name: {self.name}, student age: {self.age}\"\n",
    "    def status(self,status):\n",
    "        return f\"status of {self.name} is {status}\"\n",
    "    \n",
    "person1=person('alice',23)\n",
    "person2=person('ahmed',40)\n",
    "person3=person('mohamed',23)\n",
    "print(person3.displayinfo())\n",
    "print(person3.status('married'))\n",
    "print(person3.study(3))\n",
    "print(person1.name)\n",
    "print(person1.age)\n",
    "print(person1.displayinfo())"
   ]
  },
  {
   "cell_type": "markdown",
   "metadata": {
    "id": "e3oNmsI2z8kj"
   },
   "source": [
    "# Simple Calculator Class"
   ]
  },
  {
   "cell_type": "code",
   "execution_count": 6,
   "metadata": {
    "id": "GrGS4ubm0AFD"
   },
   "outputs": [
    {
     "name": "stdout",
     "output_type": "stream",
     "text": [
      "The sum of two numbers = 70\n",
      "The division of two numbers= 1.3333333333333333\n",
      "The multiplication of two numbers= 1200\n",
      "The difference of two numbers= 10\n"
     ]
    }
   ],
   "source": [
    "class calculator:\n",
    "    def __init__(self,number1,number2):\n",
    "        self.number1=number1\n",
    "        self.number2=number2\n",
    "    def calculate_sum(self):\n",
    "        return f\"The sum of two numbers = {self.number1+self.number2}\"\n",
    "    def calculate_diff(self):\n",
    "        return f\"The difference of two numbers= {self.number1-self.number2}\"\n",
    "    def calculate_product(self):\n",
    "        return f\"The multiplication of two numbers= {self.number1*self.number2}\"\n",
    "    def calculate_divison(self):\n",
    "        return f\"The division of two numbers= {self.number1/self.number2}\"\n",
    "calc=calculator(40,30)\n",
    "print(calc.calculate_sum())\n",
    "print(calc.calculate_divison())\n",
    "print(calc.calculate_product())\n",
    "print(calc.calculate_diff())"
   ]
  },
  {
   "cell_type": "markdown",
   "metadata": {
    "id": "KLlB1ndI0E9z"
   },
   "source": [
    "# Creating a Student Management System\n"
   ]
  },
  {
   "cell_type": "code",
   "execution_count": 28,
   "metadata": {
    "id": "bHVBM10b0Gzc"
   },
   "outputs": [
    {
     "name": "stdout",
     "output_type": "stream",
     "text": [
      "student abdelrahman of id 211001 in school ITCS has enrolled this semster 16\n",
      "congratulations you have enrolled successfully\n",
      "Your Id is valid\n",
      "\n",
      "student ahmed of id 21100234 in school Business has enrolled this semster 19\n",
      "your not required to enroll more than 18 credit hour\n",
      "your id is Invalid\n"
     ]
    }
   ],
   "source": [
    "class student:\n",
    "    def __init__(self,name,id,school,credithours):\n",
    "        self.name=name\n",
    "        self.id=id\n",
    "        self.school=school\n",
    "        self.credithours=credithours\n",
    "    def display_info(self):\n",
    "        return f\"student {self.name} of id {self.id} in school {self.school} has enrolled this semster {self.credithours}\"\n",
    "    def limit(self):\n",
    "        if self.credithours > 18:\n",
    "            return f\"your not required to enroll more than 18 credit hour\"\n",
    "        else:\n",
    "            return f'congratulations you have enrolled successfully'\n",
    "    def check_id(self):\n",
    "            if len(self.id) > 6:\n",
    "                return 'your id is Invalid'\n",
    "            else:\n",
    "               return \"Your Id is valid\"\n",
    "\n",
    "student1=student('abdelrahman','211001','ITCS',16)\n",
    "print(student1.display_info())\n",
    "print(student1.limit())\n",
    "print(student1.check_id())\n",
    "student2=student('ahmed','21100234','Business',19)\n",
    "print()\n",
    "print(student2.display_info())\n",
    "print(student2.limit())\n",
    "print(student2.check_id())"
   ]
  },
  {
   "cell_type": "markdown",
   "metadata": {
    "id": "Gp48XfCR0I_c"
   },
   "source": [
    "# Modeling a Bank Account\n"
   ]
  },
  {
   "cell_type": "code",
   "execution_count": null,
   "metadata": {
    "id": "vw1q3ooy0LO8"
   },
   "outputs": [
    {
     "name": "stdout",
     "output_type": "stream",
     "text": [
      "Deopited 20000 , new balance 20000\n",
      "Customer Abdelrahman whose phonenumber 0101234325 his balance 20000\n",
      "Withdraw 1500 , your balance now 18500\n",
      "None\n"
     ]
    }
   ],
   "source": [
    "class bank_account:\n",
    "    def __init__(self,name,phonenumber,balance=0):\n",
    "        self.name=name\n",
    "        self.phonenumber=phonenumber\n",
    "        self.balance=balance\n",
    "    def deposit(self,amount):\n",
    "        self.balance+=amount\n",
    "        return f\"Deopited {amount} , new balance {self.balance}\"\n",
    "    def withdraw(self,amount):\n",
    "        if amount <= self.balance:\n",
    "            self.balance-=amount\n",
    "            print(f'Withdraw {amount} , your balance now {self.balance}')\n",
    "        else:\n",
    "            print(\"Insufficient amount\")\n",
    "    def display_info(self):\n",
    "        return f\"Customer {self.name} whose phonenumber {self.phonenumber} his balance {self.balance}\"\n",
    "\n",
    "customer=bank_account(\"Abdelrahman\",\"0101234325\")\n",
    "print(customer.deposit(20000))\n",
    "print(customer.display_info())\n",
    "print(customer.withdraw(1500))\n",
    "        "
   ]
  },
  {
   "cell_type": "markdown",
   "metadata": {
    "id": "-4--ZqEe0OQ8"
   },
   "source": [
    "# Modeling a Simple Library System\n"
   ]
  },
  {
   "cell_type": "code",
   "execution_count": null,
   "metadata": {
    "id": "v36U_UHD0POE"
   },
   "outputs": [],
   "source": []
  },
  {
   "cell_type": "markdown",
   "metadata": {
    "id": "eehFyGAs0RY8"
   },
   "source": [
    "# Simple Voting System"
   ]
  },
  {
   "cell_type": "code",
   "execution_count": 13,
   "metadata": {
    "id": "SWD1UiMl0Syj"
   },
   "outputs": [
    {
     "name": "stdout",
     "output_type": "stream",
     "text": [
      "Voting Results:\n",
      "ahmed: 2 votes\n",
      "mohemd: 2 votes\n",
      "youssef: 1 votes\n"
     ]
    }
   ],
   "source": [
    "class voting:\n",
    "    def __init__(self):\n",
    "        self.candidates=[]\n",
    "        self.votescount={}\n",
    "\n",
    "    def add_candidate(self,name):\n",
    "        if name not in self.candidates:\n",
    "           self.candidates.append(name)\n",
    "           self.votescount[name]=0\n",
    "        else:\n",
    "            return f\"{name} is already candidate\"\n",
    "        \n",
    "    def vote(self,name):\n",
    "        if name in self.votescount:\n",
    "            self.votescount[name] += 1\n",
    "        else:\n",
    "            print(f\"Candidate {name} not found!\")\n",
    "            \n",
    "    def showresults(self):\n",
    "        print(\"Voting Results:\")\n",
    "        for candidates, votescount in self.votescount.items():\n",
    "            print(f\"{candidates}: {votescount} votes\")\n",
    "\n",
    "voting_system = voting()\n",
    "\n",
    "voting_system.add_candidate(\"ahmed\")\n",
    "voting_system.add_candidate(\"mohemd\")\n",
    "voting_system.add_candidate(\"youssef\")\n",
    "\n",
    "voting_system.vote(\"ahmed\")\n",
    "voting_system.vote(\"ahmed\")\n",
    "voting_system.vote(\"mohemd\")\n",
    "voting_system.vote(\"mohemd\")\n",
    "voting_system.vote(\"youssef\")\n",
    "\n",
    "voting_system.showresults()\n",
    "\n",
    "        \n",
    "\n",
    "    "
   ]
  },
  {
   "cell_type": "markdown",
   "metadata": {
    "id": "Vnb0BYfc0VBM"
   },
   "source": [
    "# Simple Temperature Converter"
   ]
  },
  {
   "cell_type": "code",
   "execution_count": 28,
   "metadata": {
    "id": "KjB3N91N0V1r"
   },
   "outputs": [
    {
     "name": "stdout",
     "output_type": "stream",
     "text": [
      "The conversion celsius to Fahrenheit 23: 73.4\n",
      "The conversion celsius to kelvin 23: 296.15\n",
      "None\n",
      "The conversion kelvin to celsius 200: -73.14999999999998 \n",
      "The conversion Kelvin to Fahrenheit 200: -99.66999999999996\n",
      "None\n"
     ]
    }
   ],
   "source": [
    "class Temp:\n",
    "  def __init__(self,temp,unit):\n",
    "     self.temp=temp\n",
    "     self.unit=unit\n",
    "  def convert_temp_units(self):\n",
    "    if self.unit == 'C':\n",
    "        print(f\"The conversion celsius to Fahrenheit {self.temp}: {(self.temp*9/5)+32}\")\n",
    "        print(f\"The conversion celsius to kelvin {self.temp}: {self.temp+273.15}\")\n",
    "    elif self.unit == 'K':\n",
    "        print(f\"The conversion kelvin to celsius {self.temp}: {self.temp-273.15} \")\n",
    "        print(f\"The conversion Kelvin to Fahrenheit {self.temp}: {(self.temp-273.15)*9/5+32}\")\n",
    "    elif self.unit == 'F':\n",
    "        print(f\"The conversion Fahrenheit to celsius {self.temp}: {(self.temp-32)*5/9}\")\n",
    "        print(f\"The conversion Fahrenheit to Kelvin {self.temp}: {(self.temp-32)*5/9+273.15}\")\n",
    "    else:\n",
    "        print(\"Invalid unit. Please enter 'C' for Celsius, 'K' for Kelvin, or 'F' for Fahrenheit.\")\n",
    "        exit\n",
    "    return \n",
    "  \n",
    "obj1=Temp(23,'C')\n",
    "print(obj1.convert_temp_units())\n",
    "obj2=Temp(200,'K')\n",
    "print(obj2.convert_temp_units())\n",
    "\n"
   ]
  },
  {
   "cell_type": "markdown",
   "metadata": {
    "id": "MRua6w7D0X4E"
   },
   "source": [
    "# Modeling a Car Rental System\n"
   ]
  },
  {
   "cell_type": "code",
   "execution_count": null,
   "metadata": {
    "id": "WsStIvIy0Ztz"
   },
   "outputs": [],
   "source": []
  }
 ],
 "metadata": {
  "colab": {
   "provenance": []
  },
  "kernelspec": {
   "display_name": "Python 3",
   "name": "python3"
  },
  "language_info": {
   "codemirror_mode": {
    "name": "ipython",
    "version": 3
   },
   "file_extension": ".py",
   "mimetype": "text/x-python",
   "name": "python",
   "nbconvert_exporter": "python",
   "pygments_lexer": "ipython3",
   "version": "3.12.5"
  }
 },
 "nbformat": 4,
 "nbformat_minor": 0
}
